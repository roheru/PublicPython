{
 "metadata": {
  "name": "ClassAnalysis01"
 }, 
 "name": "ClassAnalysis01", 
 "nbformat": 2, 
 "worksheets": [
  {
   "cells": [
    {
     "cell_type": "code", 
     "collapsed": false, 
     "input": "#M\u00e9todo para construir grafo (lista de  adayacencia) no dirigido (valor de 1 entre v1 y v2)\ndef construirGrafo(grafo,v1,v2):\n    if(v1 not in grafo):#Si no existe v1 en el grafo lo crea.\n        grafo[v1]={}\n    grafo[v1][v2]=1#Crea el nodo de conexi\u00f3n entre v1 y v2\n    if(v2 not in grafo):#Si no existe v2 en el grafo lo crea.\n        grafo[v2]={}\n    grafo[v2][v1]=1#Crea el nodo de conexi\u00f3n entre v2 y v1\n    return grafo\n\ndef recorrerDFS(grafo,nodo,colores):\n    colores[nodo]=\"EnVisita\"#cambia el estado del nodo a EnVisita\n    contadorNodos=1#Contador de nodos\n    for vecino in grafo[nodo]:#Recorre cada uno de los vecinos del nodo que es visitado\n        #print \"Vecino:\",neighbour,\" estado\",state[neighbour],\"\\n\"\n        if(colores[vecino]==\"NoVisitado\"):#Si el estado del nodo es \"no visitado\"\n            contadorNodos=contadorNodos+recorrerDFS(grafo,vecino,colores)#Visita el nodo vecino\n    colores[nodo]=\"Terminado\"#Sale del for, ya ha visitado todos los vecino del nodo visitado\n    return contadorNodos#devuelve el contador de nodos\n\n\n\n\nedges1 = [('v', 'r'), ('r', 's'), ('s', 'w'), ('w', 't'), \n         ('w', 'x'), ('t', 'x'), ('t', 'u'), ('x', 'y'),\n         ('u', 'y')]#Arcos de conexiones entre nodos\n    \ngrafo={}#Construye un grafo vac\u00edo\n\nfor v1,v2 in edges1:\n    construirGrafo(grafo,v1,v2)#Recorre cada uno de las parejas de los arcos para construir el grafo\n    \ncolores={}#Estados de los nodos del grafo\n#NoVisitado node no-visited still\n#EnVisita node visited but not finished\n#Terminado node visited and finished\nfor vertice in grafo:#Para cada vertice que pertenece al grafo\n    colores[vertice]=\"NoVisitado\"#Coloca cada esta del grafo en NoVisitado\n\nprint \"El n\u00famero de nodos\",recorrerDFS(grafo,'t',colores)#Recorre el DFS el grafo para contar nodos", 
     "language": "python", 
     "outputs": [
      {
       "output_type": "stream", 
       "stream": "stdout", 
       "text": "El n\u00famero de nodos 8"
      }
     ], 
     "prompt_number": 3
    }, 
    {
     "cell_type": "code", 
     "collapsed": false, 
     "input": "def hayConexion(grafo,v1,v2):#M\u00e9todo para verificar si hay conexi\u00f3n entre el v1 y v2\n    colores={}#Vector de colores\n    for v in grafo:#Para cada vertice en el grafo\n        colores[v]=\"NoVisitado\"#Inicializa el vector de colores en NoVisitado\n    recorrerDFS(grafo,v1,colores)#Recorre el grafo usando DFS desde el nodo v1\n    return colores[v2]==\"Terminado\"#Devuelve verdadero si el color de v2 es Terminado de otro modo\n    #devolver\u00e1 falso.\n\ngrafoUno={}\ngrafoDos={}\n\nedges1 = [('v', 'r'), ('r', 's'), ('s', 'w'), ('w', 't'), \n         ('w', 'x'), ('t', 'x'), ('t', 'u'), ('x', 'y'),\n         ('u', 'y')]#Arcos de conexiones entre nodos\n\nedges2 = [('v', 'r'), ('r', 's'), ('s', 'w'),('t', 'x'), ('t', 'u'), ('x', 'y'),\n         ('u', 'y')]#Arcos de conexiones entre nodos\n    \nfor v1,v2 in edges1:#Construye grafoUno\n    construirGrafo(grafoUno,v1,v2)\n\nfor v1,v2 in edges2:#Construye grafoDos\n    construirGrafo(grafoDos,v1,v2)\n    \n\nif(hayConexion(grafoUno,'v','x')):#Si hayconexion devuelve verdadero hay conexion de v a x\n    print \"Hay conexion de v a x en el grafoUno\"\nelse:\n    print \"No hay conexion de v a x en el grafoUno\"\n    \nif(hayConexion(grafoDos,'v','x')):#Si hayconexion devuelve verdadero hay conexion de v a x\n    print \"Hay conexion de v a x en el grafoDos\"\nelse:\n    print \"No hay conexion de v a x en el grafoDos\"", 
     "language": "python", 
     "outputs": [
      {
       "output_type": "stream", 
       "stream": "stdout", 
       "text": "Hay conexion de v a x en el grafoUno\nNo hay conexion de v a x en el grafoDos"
      }
     ], 
     "prompt_number": 5
    }
   ]
  }
 ]
}