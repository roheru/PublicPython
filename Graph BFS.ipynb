{
 "metadata": {
  "name": "Graph BFS"
 }, 
 "name": "Graph BFS", 
 "nbformat": 2, 
 "worksheets": [
  {
   "cells": [
    {
     "cell_type": "code", 
     "collapsed": false, 
     "input": "\ndef construirGrafo(grafo,v1,v2):\n    if(v1 not in grafo):#Si no existe v1 en el grafo lo crea.\n        grafo[v1]={}\n    grafo[v1][v2]=1#Crea el nodo de conexi\u00f3n entre v1 y v2\n    if(v2 not in grafo):#Si no existe v2 en el grafo lo crea.\n        grafo[v2]={}\n    grafo[v2][v1]=1#Crea el nodo de conexi\u00f3n entre v2 y v1\n    return grafo\n\n\n\ndef BFSIterativo(grafo,nodo):\n    colores={}\n    nivel={}\n    padres={}\n    for v in grafo:\n        colores[v]=\"NoVisitado\"\n    colores[nodo]=\"Envisita\"\n    nivel[nodo]=0\n    padres[nodo]=None\n    colaNodos=[nodo]\n    contadorNodos=1\n    while len(colaNodos)>0:\n        nuevoNodo=colaNodos[0]\n        colaNodos.remove(colaNodos[0])\n        for vecino in grafo[nuevoNodo]:\n            if(colores[vecino]==\"NoVisitado\"):\n                colores[vecino]=\"EnVisita\"\n                nivel[vecino]=nivel[nuevoNodo]+1\n                padres[vecino]=nuevoNodo\n                colaNodos.append(vecino)\n                contadorNodos+=1\n        colores[nuevoNodo]=\"Terminado\"\n    print \"N\u00famero de Nodos:\",contadorNodos\n    print \"Padres:\"\n    for v in padres:\n        print \"El padre de \",v,\" es \",padres[v]\n    \n    print \"Niveles:\"\n    for v in nivel:\n        print \"EL nivel de \",v,\" es \",nivel[v]\n    \n    \n    \n\ngrafoUno={}\n\n\nedges1 = [('v', 'r'), ('r', 's'), ('s', 'w'), ('w', 't'), \n         ('w', 'x'), ('t', 'x'), ('t', 'u'), ('x', 'y'),\n         ('u', 'y')]#Arcos de conexiones entre nodos\n\nfor v1,v2 in edges1:\n    construirGrafo(grafoUno,v1,v2)   \nprint grafoUno\n\nBFSIterativo(grafoUno,'s')\n", 
     "language": "python", 
     "outputs": [
      {
       "output_type": "stream", 
       "stream": "stdout", 
       "text": "{'s': {'r': 1, 'w': 1}, 'r': {'s': 1, 'v': 1}, 'u': {'y': 1, 't': 1}, 't': {'x': 1, 'u': 1, 'w': 1}, 'w': {'x': 1, 's': 1, 't': 1}, 'v': {'r': 1}, 'y': {'x': 1, 'u': 1}, 'x': {'y': 1, 't': 1, 'w': 1}}\nN\u00famero de Nodos: 8\nPadres:\nEl padre de  s  es  None\nEl padre de  r  es  s\nEl padre de  u  es  t\nEl padre de  t  es  w\nEl padre de  w  es  s\nEl padre de  v  es  r\nEl padre de  y  es  x\nEl padre de  x  es  w\nNiveles:\nEL nivel de  s  es  0\nEL nivel de  r  es  1\nEL nivel de  u  es  3\nEL nivel de  t  es  2\nEL nivel de  w  es  1\nEL nivel de  v  es  2\nEL nivel de  y  es  3\nEL nivel de  x  es  2"
      }
     ], 
     "prompt_number": 15
    }
   ]
  }
 ]
}
